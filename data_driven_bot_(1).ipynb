{
 "cells": [
  {
   "cell_type": "code",
   "execution_count": null,
   "metadata": {
    "colab": {},
    "colab_type": "code",
    "id": "xImuydKNPpIk"
   },
   "outputs": [],
   "source": [
    "import nltk\n",
    "import numpy as np\n",
    "import string\n",
    "import warnings\n",
    "warnings.filterwarnings(\"ignore\")\n",
    "\n",
    "nltk.download(\"punkt\")\n",
    "nltk.download(\"wordnet\")\n"
   ]
  },
  {
   "cell_type": "code",
   "execution_count": null,
   "metadata": {
    "colab": {},
    "colab_type": "code",
    "id": "6CdL9ulEPpIr"
   },
   "outputs": [],
   "source": [
    "para = \"\"\"Tallest buliding is Burj Khalifa. Largest democracy is India. Tallest statue is Statue of Unity. highest waterfall is Angel Falls . Largestt sea is South china Sea. Deepest point in the Ocean is Challenger deep of marina Trench in pacific ocean.\"\"\""
   ]
  },
  {
   "cell_type": "code",
   "execution_count": 3,
   "metadata": {
    "colab": {},
    "colab_type": "code",
    "id": "N7k-WooqPpI2"
   },
   "outputs": [],
   "source": [
    "sent_tokens = nltk.sent_tokenize(para)\n",
    "word_tokens = nltk.word_tokenize(para)"
   ]
  },
  {
   "cell_type": "code",
   "execution_count": 4,
   "metadata": {
    "colab": {},
    "colab_type": "code",
    "id": "eEw-wFpbPpI6"
   },
   "outputs": [],
   "source": [
    "lemmer = nltk.stem.WordNetLemmatizer()"
   ]
  },
  {
   "cell_type": "code",
   "execution_count": 5,
   "metadata": {
    "colab": {},
    "colab_type": "code",
    "id": "dKOARR8gPpI-"
   },
   "outputs": [],
   "source": [
    "def LemTokens(tokens):\n",
    "    return [lemmer.lemmatize(token) for token in tokens]"
   ]
  },
  {
   "cell_type": "code",
   "execution_count": 6,
   "metadata": {
    "colab": {},
    "colab_type": "code",
    "id": "fl28TZ0fPpJD"
   },
   "outputs": [],
   "source": [
    "remove_punct_dict = dict((ord(punct), None) for punct in string.punctuation)"
   ]
  },
  {
   "cell_type": "code",
   "execution_count": 7,
   "metadata": {
    "colab": {},
    "colab_type": "code",
    "id": "epLmEctdPpJI"
   },
   "outputs": [],
   "source": [
    "def Normalize(text):\n",
    "    return LemTokens(nltk.word_tokenize(text.lower().translate(remove_punct_dict)))"
   ]
  },
  {
   "cell_type": "code",
   "execution_count": 8,
   "metadata": {
    "colab": {},
    "colab_type": "code",
    "id": "ez89h-r3PpJM"
   },
   "outputs": [],
   "source": [
    "\n",
    "from sklearn.feature_extraction.text import TfidfVectorizer\n",
    "from sklearn.metrics.pairwise import cosine_similarity"
   ]
  },
  {
   "cell_type": "code",
   "execution_count": null,
   "metadata": {
    "colab": {},
    "colab_type": "code",
    "id": "SDtLQ8bRPpJQ"
   },
   "outputs": [],
   "source": []
  },
  {
   "cell_type": "code",
   "execution_count": 9,
   "metadata": {
    "colab": {},
    "colab_type": "code",
    "id": "OdaTH01JPpJc"
   },
   "outputs": [
    {
     "name": "stdout",
     "output_type": "stream",
     "text": [
      "Requirement already satisfied: requests in c:\\users\\ayush\\appdata\\local\\programs\\python\\python38-32\\lib\\site-packages (2.24.0)\n",
      "Requirement already satisfied: idna<3,>=2.5 in c:\\users\\ayush\\appdata\\local\\programs\\python\\python38-32\\lib\\site-packages (from requests) (2.10)\n",
      "Requirement already satisfied: urllib3!=1.25.0,!=1.25.1,<1.26,>=1.21.1 in c:\\users\\ayush\\appdata\\local\\programs\\python\\python38-32\\lib\\site-packages (from requests) (1.25.9)\n",
      "Requirement already satisfied: certifi>=2017.4.17 in c:\\users\\ayush\\appdata\\local\\programs\\python\\python38-32\\lib\\site-packages (from requests) (2020.6.20)\n",
      "Requirement already satisfied: chardet<4,>=3.0.2 in c:\\users\\ayush\\appdata\\local\\programs\\python\\python38-32\\lib\\site-packages (from requests) (3.0.4)\n"
     ]
    }
   ],
   "source": [
    "!pip install requests\n",
    "\n",
    "import requests\n",
    "import json\n",
    "\n",
    "class telegram_bot():\n",
    "    def __init__(self):\n",
    "        self.token = \"1346514033:AAHF9swBGBnqEEMQpMao0Ggc1EHvU66I3LI\"    #write your token here!\n",
    "        self.url = f\"https://api.telegram.org/bot{self.token}\"\n",
    "\n",
    "    def get_updates(self,offset=None):\n",
    "        url = self.url+\"/getUpdates?timeout=100\"\n",
    "        if offset:\n",
    "            url = url+f\"&offset={offset+1}\"\n",
    "        url_info = requests.get(url)\n",
    "        return json.loads(url_info.content)\n",
    "\n",
    "    def send_message(self,msg,chat_id):\n",
    "        url = self.url + f\"/sendMessage?chat_id={chat_id}&text={msg}\"\n",
    "        if msg is not None:\n",
    "            requests.get(url)\n",
    "\n",
    "    def grab_token(self):\n",
    "        return tokens\n"
   ]
  },
  {
   "cell_type": "code",
   "execution_count": null,
   "metadata": {},
   "outputs": [
    {
     "name": "stdout",
     "output_type": "stream",
     "text": [
      "...\n",
      "[{'update_id': 932336727, 'message': {'message_id': 17, 'from': {'id': 1216566389, 'is_bot': False, 'first_name': 'Ayush', 'last_name': 'Pandey', 'language_code': 'en'}, 'chat': {'id': 1216566389, 'first_name': 'Ayush', 'last_name': 'Pandey', 'type': 'private'}, 'date': 1594407012, 'text': 'Hello'}}]\n",
      "932336727\n",
      "Hello\n",
      "1216566389\n",
      "...\n",
      "[{'update_id': 932336728, 'message': {'message_id': 19, 'from': {'id': 1216566389, 'is_bot': False, 'first_name': 'Ayush', 'last_name': 'Pandey', 'language_code': 'en'}, 'chat': {'id': 1216566389, 'first_name': 'Ayush', 'last_name': 'Pandey', 'type': 'private'}, 'date': 1594407021, 'text': '/start', 'entities': [{'offset': 0, 'length': 6, 'type': 'bot_command'}]}}]\n",
      "932336728\n",
      "/start\n",
      "1216566389\n",
      "...\n",
      "[]\n",
      "...\n",
      "[{'update_id': 932336729, 'message': {'message_id': 21, 'from': {'id': 1216566389, 'is_bot': False, 'first_name': 'Ayush', 'last_name': 'Pandey', 'language_code': 'en'}, 'chat': {'id': 1216566389, 'first_name': 'Ayush', 'last_name': 'Pandey', 'type': 'private'}, 'date': 1594407092, 'text': '/start', 'entities': [{'offset': 0, 'length': 6, 'type': 'bot_command'}]}}]\n",
      "932336729\n",
      "/start\n",
      "1216566389\n",
      "...\n",
      "[{'update_id': 932336730, 'message': {'message_id': 23, 'from': {'id': 1216566389, 'is_bot': False, 'first_name': 'Ayush', 'last_name': 'Pandey', 'language_code': 'en'}, 'chat': {'id': 1216566389, 'first_name': 'Ayush', 'last_name': 'Pandey', 'type': 'private'}, 'date': 1594407116, 'text': 'Which is the tallest building?'}}]\n",
      "932336730\n",
      "Which is the tallest building?\n",
      "1216566389\n",
      "...\n",
      "[{'update_id': 932336731, 'message': {'message_id': 25, 'from': {'id': 1216566389, 'is_bot': False, 'first_name': 'Ayush', 'last_name': 'Pandey', 'language_code': 'en'}, 'chat': {'id': 1216566389, 'first_name': 'Ayush', 'last_name': 'Pandey', 'type': 'private'}, 'date': 1594407131, 'text': 'Largest Sea?'}}]\n",
      "932336731\n",
      "Largest Sea?\n",
      "1216566389\n",
      "...\n",
      "[{'update_id': 932336732, 'message': {'message_id': 27, 'from': {'id': 1216566389, 'is_bot': False, 'first_name': 'Ayush', 'last_name': 'Pandey', 'language_code': 'en'}, 'chat': {'id': 1216566389, 'first_name': 'Ayush', 'last_name': 'Pandey', 'type': 'private'}, 'date': 1594407147, 'text': 'Highest Waterfall'}}]\n",
      "932336732\n",
      "Highest Waterfall\n",
      "1216566389\n",
      "...\n",
      "[{'update_id': 932336733, 'message': {'message_id': 29, 'from': {'id': 1216566389, 'is_bot': False, 'first_name': 'Ayush', 'last_name': 'Pandey', 'language_code': 'en'}, 'chat': {'id': 1216566389, 'first_name': 'Ayush', 'last_name': 'Pandey', 'type': 'private'}, 'date': 1594407174, 'text': 'Name the largest democratic in world'}}]\n",
      "932336733\n",
      "Name the largest democratic in world\n",
      "1216566389\n",
      "...\n",
      "[{'update_id': 932336734, 'message': {'message_id': 31, 'from': {'id': 1216566389, 'is_bot': False, 'first_name': 'Ayush', 'last_name': 'Pandey', 'language_code': 'en'}, 'chat': {'id': 1216566389, 'first_name': 'Ayush', 'last_name': 'Pandey', 'type': 'private'}, 'date': 1594407195, 'text': 'Deepest point?'}}]\n",
      "932336734\n",
      "Deepest point?\n",
      "1216566389\n",
      "...\n",
      "[{'update_id': 932336735, 'message': {'message_id': 33, 'from': {'id': 1216566389, 'is_bot': False, 'first_name': 'Ayush', 'last_name': 'Pandey', 'language_code': 'en'}, 'chat': {'id': 1216566389, 'first_name': 'Ayush', 'last_name': 'Pandey', 'type': 'private'}, 'date': 1594407209, 'text': 'Tallest statue'}}]\n",
      "932336735\n",
      "Tallest statue\n",
      "1216566389\n",
      "...\n",
      "[]\n",
      "...\n",
      "[]\n",
      "...\n",
      "[]\n",
      "...\n",
      "[]\n",
      "...\n",
      "[]\n",
      "...\n",
      "[]\n",
      "...\n",
      "[]\n",
      "...\n",
      "[]\n",
      "...\n",
      "[]\n",
      "...\n",
      "[]\n",
      "...\n",
      "[]\n",
      "...\n",
      "[]\n",
      "...\n",
      "[]\n",
      "...\n",
      "[]\n",
      "...\n",
      "[]\n",
      "...\n",
      "[]\n",
      "...\n",
      "[]\n",
      "...\n",
      "[]\n",
      "...\n",
      "[]\n",
      "...\n",
      "[]\n",
      "...\n"
     ]
    }
   ],
   "source": [
    "tbot = telegram_bot()\n",
    "\n",
    "update_id = None\n",
    "\n",
    "def make_reply(user_response):\n",
    "    robo_response=''\n",
    "    if user_response ==\"/start\":\n",
    "        robo_response += \"Hello , I am here to answer World's tallest,highest, Deepest , Smallest , what would  you like to know.\"\n",
    "        return robo_response\n",
    "    elif(user_response=='bye')or (user_response=='Bye'):\n",
    "        robo_response += \"Okk! Keep learning. Happy Learning.\"\n",
    "        return robo_response\n",
    "    else:\n",
    "        sent_tokens.append(user_response)\n",
    "        TfidfVec = TfidfVectorizer(tokenizer=Normalize, stop_words='english')\n",
    "        tfidf = TfidfVec.fit_transform(sent_tokens)\n",
    "        vals = cosine_similarity(tfidf[-1], tfidf)   \n",
    "        idx=vals.argsort()[0][-2]\n",
    "        flat = vals.flatten() \n",
    "        flat.sort()\n",
    "        req_tfidf = flat[-2]\n",
    "        if(req_tfidf==0):\n",
    "            robo_response=robo_response+\"I am sorry! I don't understand you\"\n",
    "            sent_tokens.remove(user_response) \n",
    "            return robo_response\n",
    "        else:\n",
    "            robo_response = robo_response+sent_tokens[idx]\n",
    "            sent_tokens.remove(user_response) \n",
    "            return robo_response\n",
    "\n",
    "    \n",
    "while True:\n",
    "    print(\"...\")\n",
    "    updates = tbot.get_updates(offset=update_id)\n",
    "    updates = updates['result']\n",
    "    print(updates)\n",
    "    if updates:\n",
    "        for item in updates:\n",
    "            update_id = item[\"update_id\"]\n",
    "            print(update_id)\n",
    "            try:\n",
    "                message = item[\"message\"][\"text\"]\n",
    "                print(message)\n",
    "            except:\n",
    "                message = None\n",
    "            from_ = item[\"message\"][\"from\"][\"id\"]\n",
    "            print(from_)\n",
    "\n",
    "            reply = make_reply(message)\n",
    "            tbot.send_message(reply,from_)"
   ]
  },
  {
   "cell_type": "code",
   "execution_count": null,
   "metadata": {},
   "outputs": [],
   "source": []
  }
 ],
 "metadata": {
  "colab": {
   "name": "data_driven_bot (1).ipynb",
   "provenance": []
  },
  "kernelspec": {
   "display_name": "Python 3",
   "language": "python",
   "name": "python3"
  },
  "language_info": {
   "codemirror_mode": {
    "name": "ipython",
    "version": 3
   },
   "file_extension": ".py",
   "mimetype": "text/x-python",
   "name": "python",
   "nbconvert_exporter": "python",
   "pygments_lexer": "ipython3",
   "version": "3.8.3"
  }
 },
 "nbformat": 4,
 "nbformat_minor": 1
}
