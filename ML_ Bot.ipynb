{
 "cells": [
  {
   "cell_type": "markdown",
   "metadata": {},
   "source": [
    "<h1 style=\"color:red\">MADs AI Chatbot dev. Workshop Day 3</h1>"
   ]
  },
  {
   "cell_type": "code",
   "execution_count": 1,
   "metadata": {},
   "outputs": [
    {
     "name": "stdout",
     "output_type": "stream",
     "text": [
      "Requirement already satisfied: numpy in c:\\users\\ayush\\appdata\\local\\programs\\python\\python36\\lib\\site-packages (1.19.0)\n",
      "Requirement already satisfied: pandas in c:\\users\\ayush\\appdata\\local\\programs\\python\\python36\\lib\\site-packages (1.0.5)\n",
      "Requirement already satisfied: pytz>=2017.2 in c:\\users\\ayush\\appdata\\local\\programs\\python\\python36\\lib\\site-packages (from pandas) (2020.1)\n",
      "Requirement already satisfied: numpy>=1.13.3 in c:\\users\\ayush\\appdata\\local\\programs\\python\\python36\\lib\\site-packages (from pandas) (1.19.0)\n",
      "Requirement already satisfied: python-dateutil>=2.6.1 in c:\\users\\ayush\\appdata\\local\\programs\\python\\python36\\lib\\site-packages (from pandas) (2.8.1)\n",
      "Requirement already satisfied: six>=1.5 in c:\\users\\ayush\\appdata\\local\\programs\\python\\python36\\lib\\site-packages (from python-dateutil>=2.6.1->pandas) (1.15.0)\n",
      "Requirement already satisfied: scikit-learn in c:\\users\\ayush\\appdata\\local\\programs\\python\\python36\\lib\\site-packages (0.23.1)\n",
      "Requirement already satisfied: scipy>=0.19.1 in c:\\users\\ayush\\appdata\\local\\programs\\python\\python36\\lib\\site-packages (from scikit-learn) (1.5.1)\n",
      "Requirement already satisfied: threadpoolctl>=2.0.0 in c:\\users\\ayush\\appdata\\local\\programs\\python\\python36\\lib\\site-packages (from scikit-learn) (2.1.0)\n",
      "Requirement already satisfied: numpy>=1.13.3 in c:\\users\\ayush\\appdata\\local\\programs\\python\\python36\\lib\\site-packages (from scikit-learn) (1.19.0)\n",
      "Requirement already satisfied: joblib>=0.11 in c:\\users\\ayush\\appdata\\local\\programs\\python\\python36\\lib\\site-packages (from scikit-learn) (0.16.0)\n"
     ]
    }
   ],
   "source": [
    "!pip install numpy\n",
    "!pip install pandas\n",
    "!pip install scikit-learn\n",
    "\n",
    "\n",
    "import numpy as np\n",
    "import pandas as pd\n",
    "from sklearn.feature_extraction.text import TfidfVectorizer\n",
    "from sklearn.svm import LinearSVC  #importing machine learning classification algorithm\n",
    "import random\n",
    "import pickle"
   ]
  },
  {
   "cell_type": "code",
   "execution_count": 2,
   "metadata": {},
   "outputs": [],
   "source": [
    "# training data\n",
    "data = [[\"What is my Registration Number?\",1],[\"When wil the exams Start?\",1],[\"Please provide me the Syllubus\",1],[\"Hi Good Morning\",0],[\"Hello madian\",0],[\"heya\",0],[\"Goodbye\",4],['Byebye',4],['Bye',4]]"
   ]
  },
  {
   "cell_type": "code",
   "execution_count": 3,
   "metadata": {},
   "outputs": [],
   "source": [
    "#converting it into pandas dataframe\n",
    "df = pd.DataFrame(data, columns = ['text', 'intent'])"
   ]
  },
  {
   "cell_type": "code",
   "execution_count": 4,
   "metadata": {},
   "outputs": [
    {
     "data": {
      "text/html": [
       "<div>\n",
       "<style scoped>\n",
       "    .dataframe tbody tr th:only-of-type {\n",
       "        vertical-align: middle;\n",
       "    }\n",
       "\n",
       "    .dataframe tbody tr th {\n",
       "        vertical-align: top;\n",
       "    }\n",
       "\n",
       "    .dataframe thead th {\n",
       "        text-align: right;\n",
       "    }\n",
       "</style>\n",
       "<table border=\"1\" class=\"dataframe\">\n",
       "  <thead>\n",
       "    <tr style=\"text-align: right;\">\n",
       "      <th></th>\n",
       "      <th>text</th>\n",
       "      <th>intent</th>\n",
       "    </tr>\n",
       "  </thead>\n",
       "  <tbody>\n",
       "    <tr>\n",
       "      <th>0</th>\n",
       "      <td>What is my Registration Number?</td>\n",
       "      <td>1</td>\n",
       "    </tr>\n",
       "    <tr>\n",
       "      <th>1</th>\n",
       "      <td>When wil the exams Start?</td>\n",
       "      <td>1</td>\n",
       "    </tr>\n",
       "    <tr>\n",
       "      <th>2</th>\n",
       "      <td>Please provide me the Syllubus</td>\n",
       "      <td>1</td>\n",
       "    </tr>\n",
       "    <tr>\n",
       "      <th>3</th>\n",
       "      <td>Hi Good Morning</td>\n",
       "      <td>0</td>\n",
       "    </tr>\n",
       "    <tr>\n",
       "      <th>4</th>\n",
       "      <td>Hello madian</td>\n",
       "      <td>0</td>\n",
       "    </tr>\n",
       "    <tr>\n",
       "      <th>5</th>\n",
       "      <td>heya</td>\n",
       "      <td>0</td>\n",
       "    </tr>\n",
       "    <tr>\n",
       "      <th>6</th>\n",
       "      <td>Goodbye</td>\n",
       "      <td>4</td>\n",
       "    </tr>\n",
       "    <tr>\n",
       "      <th>7</th>\n",
       "      <td>Byebye</td>\n",
       "      <td>4</td>\n",
       "    </tr>\n",
       "    <tr>\n",
       "      <th>8</th>\n",
       "      <td>Bye</td>\n",
       "      <td>4</td>\n",
       "    </tr>\n",
       "  </tbody>\n",
       "</table>\n",
       "</div>"
      ],
      "text/plain": [
       "                              text  intent\n",
       "0  What is my Registration Number?       1\n",
       "1        When wil the exams Start?       1\n",
       "2   Please provide me the Syllubus       1\n",
       "3                  Hi Good Morning       0\n",
       "4                     Hello madian       0\n",
       "5                             heya       0\n",
       "6                          Goodbye       4\n",
       "7                           Byebye       4\n",
       "8                              Bye       4"
      ]
     },
     "execution_count": 4,
     "metadata": {},
     "output_type": "execute_result"
    }
   ],
   "source": [
    "df   #1 -> availability and 0 -> greeting"
   ]
  },
  {
   "cell_type": "code",
   "execution_count": 5,
   "metadata": {},
   "outputs": [],
   "source": [
    "x = df['text']   #seperating x from data\n",
    "y = df['intent']   # seperating y from data (intents are encoded into numbers as machine can only predict numbers)"
   ]
  },
  {
   "cell_type": "code",
   "execution_count": 6,
   "metadata": {},
   "outputs": [],
   "source": [
    "vectorizer = TfidfVectorizer()\n",
    "X = vectorizer.fit_transform(x)  # X has tfidfed vectors"
   ]
  },
  {
   "cell_type": "code",
   "execution_count": 7,
   "metadata": {},
   "outputs": [],
   "source": [
    "clf  = LinearSVC(max_iter=800, C=0.1) #initializing the classifier"
   ]
  },
  {
   "cell_type": "code",
   "execution_count": 8,
   "metadata": {},
   "outputs": [
    {
     "data": {
      "text/plain": [
       "LinearSVC(C=0.1, max_iter=800)"
      ]
     },
     "execution_count": 8,
     "metadata": {},
     "output_type": "execute_result"
    }
   ],
   "source": [
    "clf.fit(X,y) #creating the model. after fitting model is ready"
   ]
  },
  {
   "cell_type": "code",
   "execution_count": 9,
   "metadata": {},
   "outputs": [],
   "source": [
    "text_test = [\"What is my Registration Number?\"]   #let's test it on test data. Keep test data into array"
   ]
  },
  {
   "cell_type": "code",
   "execution_count": null,
   "metadata": {},
   "outputs": [],
   "source": []
  },
  {
   "cell_type": "code",
   "execution_count": 10,
   "metadata": {},
   "outputs": [],
   "source": [
    "X_test = vectorizer.transform(text_test) #converting text data into vectors"
   ]
  },
  {
   "cell_type": "code",
   "execution_count": 11,
   "metadata": {},
   "outputs": [],
   "source": [
    "prediction = clf.predict(X_test) #predicting"
   ]
  },
  {
   "cell_type": "code",
   "execution_count": 12,
   "metadata": {},
   "outputs": [
    {
     "name": "stdout",
     "output_type": "stream",
     "text": [
      "[1]\n"
     ]
    }
   ],
   "source": [
    "print(prediction) #yes we predicted it right"
   ]
  },
  {
   "cell_type": "code",
   "execution_count": null,
   "metadata": {},
   "outputs": [],
   "source": []
  },
  {
   "cell_type": "code",
   "execution_count": null,
   "metadata": {},
   "outputs": [],
   "source": []
  },
  {
   "cell_type": "code",
   "execution_count": null,
   "metadata": {},
   "outputs": [],
   "source": []
  },
  {
   "cell_type": "markdown",
   "metadata": {},
   "source": [
    "<h3>Saving and loading the model</h3>"
   ]
  },
  {
   "cell_type": "code",
   "execution_count": 13,
   "metadata": {},
   "outputs": [],
   "source": [
    "pickle.dump(clf,open(\"model.pkl\", 'wb')) #saving"
   ]
  },
  {
   "cell_type": "code",
   "execution_count": 14,
   "metadata": {},
   "outputs": [],
   "source": [
    "load_model = pickle.load(open(\"model.pkl\", 'rb')) #loading"
   ]
  },
  {
   "cell_type": "code",
   "execution_count": 15,
   "metadata": {},
   "outputs": [
    {
     "data": {
      "text/plain": [
       "array([1], dtype=int64)"
      ]
     },
     "execution_count": 15,
     "metadata": {},
     "output_type": "execute_result"
    }
   ],
   "source": [
    "load_model.predict(X_test) #predicting using loaded model"
   ]
  },
  {
   "cell_type": "markdown",
   "metadata": {},
   "source": [
    "<h3>MINI Dataset</h3>"
   ]
  },
  {
   "cell_type": "code",
   "execution_count": 16,
   "metadata": {},
   "outputs": [],
   "source": [
    "responses = {0 : {\"intent\":\"greetings\",\"response\":['Welcome dear','How are you?','Whatsupp']}, \n",
    "      1 : {\"intent\":\"University\",\"response\":['Hello there Your University Registration number is 180103014','The Syllabus is uploaded on Website',\n",
    "                                'Exams will start from August ,be prepared','Other information coming soon ']}}"
   ]
  },
  {
   "cell_type": "markdown",
   "metadata": {},
   "source": [
    "<h1>After training deploying model for chatbot</h1>"
   ]
  },
  {
   "cell_type": "code",
   "execution_count": 17,
   "metadata": {},
   "outputs": [
    {
     "name": "stdout",
     "output_type": "stream",
     "text": [
      "Requirement already satisfied: requests in c:\\users\\ayush\\appdata\\local\\programs\\python\\python36\\lib\\site-packages (2.24.0)\n",
      "Requirement already satisfied: urllib3!=1.25.0,!=1.25.1,<1.26,>=1.21.1 in c:\\users\\ayush\\appdata\\local\\programs\\python\\python36\\lib\\site-packages (from requests) (1.25.9)\n",
      "Requirement already satisfied: chardet<4,>=3.0.2 in c:\\users\\ayush\\appdata\\local\\programs\\python\\python36\\lib\\site-packages (from requests) (3.0.4)\n",
      "Requirement already satisfied: certifi>=2017.4.17 in c:\\users\\ayush\\appdata\\local\\programs\\python\\python36\\lib\\site-packages (from requests) (2020.6.20)\n",
      "Requirement already satisfied: idna<3,>=2.5 in c:\\users\\ayush\\appdata\\local\\programs\\python\\python36\\lib\\site-packages (from requests) (2.10)\n"
     ]
    }
   ],
   "source": [
    "!pip install requests\n",
    "\n",
    "import requests\n",
    "import json\n",
    "\n",
    "class telegram_bot():\n",
    "    def __init__(self):\n",
    "        self.token = \"1301586089:AAGi_sIQQT3cktTLzxT1U9RfEqUOjg6jDVg\"    #write your token here!\n",
    "        self.url = f\"https://api.telegram.org/bot{self.token}\"\n",
    "\n",
    "    def get_updates(self,offset=None):\n",
    "        url = self.url+\"/getUpdates?timeout=100\"\n",
    "        if offset:\n",
    "            url = url+f\"&offset={offset+1}\"\n",
    "        url_info = requests.get(url)\n",
    "        return json.loads(url_info.content)\n",
    "\n",
    "    def send_message(self,msg,chat_id):\n",
    "        url = self.url + f\"/sendMessage?chat_id={chat_id}&text={msg}\"\n",
    "        if msg is not None:\n",
    "            requests.get(url)\n",
    "\n",
    "    def grab_token(self):\n",
    "        return tokens\n"
   ]
  },
  {
   "cell_type": "code",
   "execution_count": null,
   "metadata": {},
   "outputs": [
    {
     "name": "stdout",
     "output_type": "stream",
     "text": [
      "...\n",
      "[{'update_id': 31121307, 'message': {'message_id': 36, 'from': {'id': 1216566389, 'is_bot': False, 'first_name': 'Ayush', 'last_name': 'Pandey', 'language_code': 'en'}, 'chat': {'id': 1216566389, 'first_name': 'Ayush', 'last_name': 'Pandey', 'type': 'private'}, 'date': 1594642843, 'text': '/start', 'entities': [{'offset': 0, 'length': 6, 'type': 'bot_command'}]}}]\n",
      "31121307\n",
      "/start\n",
      "1216566389\n",
      "...\n",
      "[{'update_id': 31121308, 'message': {'message_id': 38, 'from': {'id': 1216566389, 'is_bot': False, 'first_name': 'Ayush', 'last_name': 'Pandey', 'language_code': 'en'}, 'chat': {'id': 1216566389, 'first_name': 'Ayush', 'last_name': 'Pandey', 'type': 'private'}, 'date': 1594642862, 'text': 'What is the syllabus'}}]\n",
      "31121308\n",
      "What is the syllabus\n",
      "1216566389\n",
      "...\n",
      "[{'update_id': 31121309, 'message': {'message_id': 40, 'from': {'id': 1216566389, 'is_bot': False, 'first_name': 'Ayush', 'last_name': 'Pandey', 'language_code': 'en'}, 'chat': {'id': 1216566389, 'first_name': 'Ayush', 'last_name': 'Pandey', 'type': 'private'}, 'date': 1594642879, 'text': 'When will the exams start'}}]\n",
      "31121309\n",
      "When will the exams start\n",
      "1216566389\n",
      "...\n",
      "[{'update_id': 31121310, 'message': {'message_id': 42, 'from': {'id': 1216566389, 'is_bot': False, 'first_name': 'Ayush', 'last_name': 'Pandey', 'language_code': 'en'}, 'chat': {'id': 1216566389, 'first_name': 'Ayush', 'last_name': 'Pandey', 'type': 'private'}, 'date': 1594642923, 'text': 'Thanks'}}]\n",
      "31121310\n",
      "Thanks\n",
      "1216566389\n",
      "...\n",
      "[{'update_id': 31121311, 'message': {'message_id': 44, 'from': {'id': 1216566389, 'is_bot': False, 'first_name': 'Ayush', 'last_name': 'Pandey', 'language_code': 'en'}, 'chat': {'id': 1216566389, 'first_name': 'Ayush', 'last_name': 'Pandey', 'type': 'private'}, 'date': 1594642950, 'text': 'I am fine'}}]\n",
      "31121311\n",
      "I am fine\n",
      "1216566389\n",
      "...\n",
      "[{'update_id': 31121312, 'message': {'message_id': 46, 'from': {'id': 1216566389, 'is_bot': False, 'first_name': 'Ayush', 'last_name': 'Pandey', 'language_code': 'en'}, 'chat': {'id': 1216566389, 'first_name': 'Ayush', 'last_name': 'Pandey', 'type': 'private'}, 'date': 1594642998, 'text': 'Exams'}}]\n",
      "31121312\n",
      "Exams\n",
      "1216566389\n",
      "...\n",
      "[{'update_id': 31121313, 'message': {'message_id': 48, 'from': {'id': 1216566389, 'is_bot': False, 'first_name': 'Ayush', 'last_name': 'Pandey', 'language_code': 'en'}, 'chat': {'id': 1216566389, 'first_name': 'Ayush', 'last_name': 'Pandey', 'type': 'private'}, 'date': 1594643009, 'text': 'Information'}}]\n",
      "31121313\n",
      "Information\n",
      "1216566389\n",
      "...\n"
     ]
    }
   ],
   "source": [
    "tbot = telegram_bot()\n",
    "\n",
    "update_id = None\n",
    "def response(user_response):\n",
    "    robo_response=''\n",
    "    if user_response ==\"/start\":\n",
    "        robo_response += \"This is the University Official Website:Ask for University Related Questions.\"\n",
    "        return robo_response\n",
    "    elif(user_response=='bye')or (user_response=='Bye'):\n",
    "        robo_response += \"Okk! Thanks For Visiting.\"\n",
    "        return robo_response\n",
    "    else:\n",
    "        text_test = [user_response]\n",
    "        X_test = vectorizer.transform(text_test)\n",
    "        prediction = clf.predict(X_test)\n",
    "        reply = random.choice(responses[prediction[0]][\"response\"])\n",
    "        return reply\n",
    "    \n",
    "while True:\n",
    "    print(\"...\")\n",
    "    updates = tbot.get_updates(offset=update_id)\n",
    "    updates = updates['result']\n",
    "    print(updates)\n",
    "    if updates:\n",
    "        for item in updates:\n",
    "            update_id = item[\"update_id\"]\n",
    "            print(update_id)\n",
    "            try:\n",
    "                message = item[\"message\"][\"text\"]\n",
    "                print(message)\n",
    "            except:\n",
    "                message = None\n",
    "            from_ = item[\"message\"][\"from\"][\"id\"]\n",
    "            print(from_)\n",
    "\n",
    "            reply = response(message)\n",
    "            tbot.send_message(reply,from_)"
   ]
  },
  {
   "cell_type": "markdown",
   "metadata": {},
   "source": [
    "<h1>Stay MAD Stay Creative</h1>"
   ]
  },
  {
   "cell_type": "markdown",
   "metadata": {},
   "source": [
    "<h1 style='color:blue'>We Are MAD & We All Deserve Better</h1>"
   ]
  },
  {
   "cell_type": "code",
   "execution_count": null,
   "metadata": {},
   "outputs": [],
   "source": []
  }
 ],
 "metadata": {
  "kernelspec": {
   "display_name": "Python 3",
   "language": "python",
   "name": "python3"
  },
  "language_info": {
   "codemirror_mode": {
    "name": "ipython",
    "version": 3
   },
   "file_extension": ".py",
   "mimetype": "text/x-python",
   "name": "python",
   "nbconvert_exporter": "python",
   "pygments_lexer": "ipython3",
   "version": "3.6.8"
  }
 },
 "nbformat": 4,
 "nbformat_minor": 4
}
